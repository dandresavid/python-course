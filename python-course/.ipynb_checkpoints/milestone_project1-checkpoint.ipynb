{
 "cells": [
  {
   "cell_type": "code",
   "execution_count": 1,
   "id": "9b17e2c8",
   "metadata": {},
   "outputs": [],
   "source": [
    "from IPython.display import clear_output\n",
    "def display_board(board):\n",
    "    clear_output()\n",
    "    print(board[7],'|', board[8], '|',board[9])\n",
    "    print('---------')\n",
    "    print(board[4],'|', board[5],'|', board[6])\n",
    "    print('---------')\n",
    "    print(board[1],'|', board[2], '|',board[3])"
   ]
  },
  {
   "cell_type": "code",
   "execution_count": 2,
   "id": "a100d443",
   "metadata": {},
   "outputs": [],
   "source": [
    "def position_choice(player, board):\n",
    "    choice = 'wrong'\n",
    "    while choice == 'wrong':\n",
    "        position = input(f'Player{player}: Choose your next position: (1,9) ')\n",
    "        \n",
    "        if position.isdigit():\n",
    "            position = int(position)\n",
    "            if position not in range(1,10):\n",
    "                print(f'Player{player}: Sorry, the position must be between 1,9 ')\n",
    "            elif board[position] != ' ':\n",
    "                print(f'Player{player}: Sorry, the position has been taken, try another number ')\n",
    "            else:\n",
    "                choice = 'correct'\n",
    "                return position\n",
    "        else:\n",
    "            print(f'Player{player}: Sorry, the value entered is not valid ')"
   ]
  },
  {
   "cell_type": "code",
   "execution_count": 3,
   "id": "57b7ec5e",
   "metadata": {},
   "outputs": [],
   "source": [
    "def player_choice(options, message):\n",
    "    choice = 'wrong'\n",
    "    while choice not in options:\n",
    "        choice = input(message)\n",
    "        \n",
    "        if choice not in options:\n",
    "            print(f'Sorry, I dont understand, please choose {options[0]} or {option[1]} ')\n",
    "            \n",
    "    return choice\n",
    "        "
   ]
  },
  {
   "cell_type": "code",
   "execution_count": 4,
   "id": "00321523",
   "metadata": {},
   "outputs": [],
   "source": [
    "def replacement_choice(board, player, position):\n",
    "    board[position] = player\n",
    "    return board"
   ]
  },
  {
   "cell_type": "code",
   "execution_count": 5,
   "id": "cb5364f1",
   "metadata": {},
   "outputs": [],
   "source": [
    "def is_a_winner(board, marker):\n",
    "    if board[1] == board[2] == board[3] == marker:\n",
    "        return True\n",
    "    if board[4] == board[5] == board[6] == marker:\n",
    "        return True\n",
    "    if board[7] == board[8] == board[9] == marker:\n",
    "        return True\n",
    "    if board[1] == board[4] == board[7] == marker:\n",
    "        return True\n",
    "    if board[2] == board[5] == board[8] == marker:\n",
    "        return True\n",
    "    if board[3] == board[6] == board[9] == marker:\n",
    "        return True\n",
    "    if board[1] == board[5] == board[9] == marker:\n",
    "        return True\n",
    "    if board[7] == board[5] == board[3] == marker:\n",
    "        return True\n",
    "    return False"
   ]
  },
  {
   "cell_type": "code",
   "execution_count": null,
   "id": "584480c7",
   "metadata": {},
   "outputs": [],
   "source": [
    "import random\n",
    "def choose_first():\n",
    "    flip = random.randit(0,1)\n",
    "    if flip == 1:\n",
    "        return 1\n",
    "    else:\n",
    "        return 2"
   ]
  },
  {
   "cell_type": "code",
   "execution_count": 6,
   "id": "4463a8ea",
   "metadata": {},
   "outputs": [],
   "source": [
    "def game(board, markers):\n",
    "    game_on = True\n",
    "    i = 0\n",
    "    while game_on:\n",
    "        player = i%2 + 1\n",
    "        display_board(board)\n",
    "        position = position_choice(player,board)\n",
    "        board = replacement_choice(board,markers[player],position)\n",
    "        display_board(board)\n",
    "        if ' ' not in board:\n",
    "            print(f'Tied! you tied the game!')\n",
    "            game_on = False\n",
    "        elif is_a_winner(board, markers[player]):\n",
    "            print(f'Congratulations! Player{player}, you have won the game!')\n",
    "            game_on = False\n",
    "        i +=1\n",
    "    return player_choice(['Yes', 'No'], 'Do you want to play again? Enter Yes or No ')\n",
    "    \n"
   ]
  },
  {
   "cell_type": "code",
   "execution_count": 7,
   "id": "90964c1e",
   "metadata": {},
   "outputs": [],
   "source": [
    "from IPython.display import clear_output\n",
    "def main():\n",
    "    clear_output()\n",
    "    replay = 'Yes'\n",
    "    while replay == 'Yes':\n",
    "        board = [' ']*10\n",
    "        board[0] = '-'\n",
    "        print('Welcome to Tic Tac Toe!')\n",
    "        marker = player_choice(['X','O'], 'Player 1: Do you want to be X or O? ')\n",
    "\n",
    "        if marker == 'O':\n",
    "            markers = ['-','O','X']\n",
    "        else:\n",
    "            markers = ['-','X','O']\n",
    "        turn = choose_first()\n",
    "        #print(f'Player {turn}: You go first!')\n",
    "        start = player_choice(['Yes', 'No'], 'Are you ready to play? Enter Yes or No ')\n",
    "        if start == 'Yes':\n",
    "            replay = game(board, markers)\n",
    "        else:\n",
    "            replay = 'No'\n",
    "    "
   ]
  },
  {
   "cell_type": "code",
   "execution_count": null,
   "id": "2bd25496",
   "metadata": {},
   "outputs": [
    {
     "name": "stdout",
     "output_type": "stream",
     "text": [
      "  |   | X\n",
      "---------\n",
      "O | O | X\n",
      "---------\n",
      "X | O | X\n",
      "Congratulations! Player1, you have won the game!\n",
      "Do you want to play again? Enter Yes or No Yes\n",
      "Welcome to Tic Tac Toe!\n"
     ]
    }
   ],
   "source": [
    "main()"
   ]
  },
  {
   "cell_type": "code",
   "execution_count": null,
   "id": "d161034b",
   "metadata": {},
   "outputs": [],
   "source": []
  }
 ],
 "metadata": {
  "kernelspec": {
   "display_name": "Python 3",
   "language": "python",
   "name": "python3"
  },
  "language_info": {
   "codemirror_mode": {
    "name": "ipython",
    "version": 3
   },
   "file_extension": ".py",
   "mimetype": "text/x-python",
   "name": "python",
   "nbconvert_exporter": "python",
   "pygments_lexer": "ipython3",
   "version": "3.8.8"
  }
 },
 "nbformat": 4,
 "nbformat_minor": 5
}
