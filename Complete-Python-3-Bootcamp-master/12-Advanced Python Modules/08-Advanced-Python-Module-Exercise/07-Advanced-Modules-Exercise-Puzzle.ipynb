{
 "cells": [
  {
   "cell_type": "markdown",
   "metadata": {},
   "source": [
    "___\n",
    "\n",
    "<a href='https://www.udemy.com/user/joseportilla/'><img src='../../Pierian_Data_Logo.png'/></a>\n",
    "___\n",
    "<center><em>Content Copyright by Pierian Data</em></center>"
   ]
  },
  {
   "cell_type": "markdown",
   "metadata": {},
   "source": [
    "# Advanced Modules Exercise Puzzle\n",
    "\n",
    "It's time to test your new skills, this puzzle project will combine multiple skills sets, including unzipping files with Python, using os module to automatically search through lots of files.\n",
    "\n",
    "## Your Goal\n",
    "\n",
    "This is a puzzle, so we don't want to give you too much guidance and instead have you figure out things on your own.\n",
    "\n",
    "There is a .zip file called 'unzip_me_for_instructions.zip', unzip it, open the .txt file with Python, read the instructions and see if you can figure out what you need to do!\n",
    "\n",
    "**If you get stuck or don't know where to start, here is a [guide/hints](https://docs.google.com/document/d/1JxydUr4n4fSR0EwwuwT-aHia-yPK6r-oTBuVT2sqheo/edit?usp=sharing)**"
   ]
  },
  {
   "cell_type": "code",
   "execution_count": 68,
   "metadata": {},
   "outputs": [],
   "source": [
    "import shutil"
   ]
  },
  {
   "cell_type": "code",
   "execution_count": 69,
   "metadata": {},
   "outputs": [],
   "source": [
    "shutil.unpack_archive('unzip_me_for_instructions.zip', '', 'zip')"
   ]
  },
  {
   "cell_type": "code",
   "execution_count": 70,
   "metadata": {},
   "outputs": [],
   "source": [
    "import os"
   ]
  },
  {
   "cell_type": "code",
   "execution_count": 71,
   "metadata": {},
   "outputs": [
    {
     "data": {
      "text/plain": [
       "'/Users/dandresavid/Documents/courses/python-course/Complete-Python-3-Bootcamp-master/12-Advanced Python Modules/08-Advanced-Python-Module-Exercise'"
      ]
     },
     "execution_count": 71,
     "metadata": {},
     "output_type": "execute_result"
    }
   ],
   "source": [
    "pwd"
   ]
  },
  {
   "cell_type": "code",
   "execution_count": 74,
   "metadata": {},
   "outputs": [],
   "source": [
    "my_dir = '/Users/dandresavid/Documents/courses/python-course/Complete-Python-3-Bootcamp-master/12-Advanced Python Modules/08-Advanced-Python-Module-Exercise/extracted_content'"
   ]
  },
  {
   "cell_type": "code",
   "execution_count": 75,
   "metadata": {},
   "outputs": [
    {
     "data": {
      "text/plain": [
       "['Instructions.txt', 'Three', 'One', 'Two', 'Five', 'Four']"
      ]
     },
     "execution_count": 75,
     "metadata": {},
     "output_type": "execute_result"
    }
   ],
   "source": [
    "os.listdir(my_dir)"
   ]
  },
  {
   "cell_type": "code",
   "execution_count": 76,
   "metadata": {},
   "outputs": [
    {
     "data": {
      "text/plain": [
       "'Good work on unzipping the file!\\nYou should now see 5 folders, each with a lot of random .txt files.\\nWithin one of these text files is a telephone number formated ###-###-#### \\nUse the Python os module and regular expressions to iterate through each file, open it, and search for a telephone number.\\nGood luck!'"
      ]
     },
     "execution_count": 76,
     "metadata": {},
     "output_type": "execute_result"
    }
   ],
   "source": [
    "file = open('extracted_content/Instructions.txt')\n",
    "file.read()"
   ]
  },
  {
   "cell_type": "code",
   "execution_count": 77,
   "metadata": {},
   "outputs": [
    {
     "name": "stdout",
     "output_type": "stream",
     "text": [
      "Currently looking at /Users/dandresavid/Documents/courses/python-course/Complete-Python-3-Bootcamp-master/12-Advanced Python Modules/08-Advanced-Python-Module-Exercise/extracted_content\n",
      "\n",
      "\n",
      "The subfolders are:\n",
      "\t Subfolder Three \n",
      "\t Subfolder One \n",
      "\t Subfolder Two \n",
      "\t Subfolder Five \n",
      "\t Subfolder Four \n",
      "\n",
      "\n",
      "The files are: \n",
      "File: Instructions.txt\n",
      "\n",
      "\n",
      "Currently looking at /Users/dandresavid/Documents/courses/python-course/Complete-Python-3-Bootcamp-master/12-Advanced Python Modules/08-Advanced-Python-Module-Exercise/extracted_content/Three\n",
      "\n",
      "\n",
      "The subfolders are:\n",
      "\n",
      "\n",
      "The files are: \n",
      "File: VSXFSTABZDY.txt\n",
      "File: YDQFMWXOUMW.txt\n",
      "File: YQBIUHSUEVW.txt\n",
      "File: XAJMCPEWFNI.txt\n",
      "File: ZXEZRQXZNPG.txt\n",
      "File: ZKQJXAYKPVD.txt\n",
      "File: XVMPVSVYKFR.txt\n",
      "File: XHZPVUQTXIO.txt\n",
      "File: YYIZGBTQHZP.txt\n",
      "File: VCFJCGJFBIH.txt\n",
      "File: VVHFVZUNLOO.txt\n",
      "File: VVKGWLRMHLU.txt\n",
      "File: XJCWENFFGHB.txt\n",
      "File: XFHJOTNPEJG.txt\n",
      "File: ZOWVXWPOGWP.txt\n",
      "File: ZXIBJMPROKW.txt\n",
      "File: VAQIJTDOFUJ.txt\n",
      "File: YCESZHJDBXH.txt\n",
      "File: YQRNCMNFFHW.txt\n",
      "File: ZEZKKRBIZEB.txt\n",
      "\n",
      "\n",
      "Currently looking at /Users/dandresavid/Documents/courses/python-course/Complete-Python-3-Bootcamp-master/12-Advanced Python Modules/08-Advanced-Python-Module-Exercise/extracted_content/One\n",
      "\n",
      "\n",
      "The subfolders are:\n",
      "\n",
      "\n",
      "The files are: \n",
      "File: LFEATJAAYDC.txt\n",
      "File: KCXGNQCZBLO.txt\n",
      "File: KFIUZFERLET.txt\n",
      "File: LIFDHOFKWOI.txt\n",
      "File: HRQFTHKVJTL.txt\n",
      "File: PLYCGPVEAWO.txt\n",
      "File: JEHBLZPUPSP.txt\n",
      "File: PDJMSMNKIRM.txt\n",
      "File: LPNDVDXPZIG.txt\n",
      "File: HMNZTLIFGPD.txt\n",
      "File: KNBSKDREHQU.txt\n",
      "File: KTXDHIOKAUI.txt\n",
      "File: JQUOBKFUACN.txt\n",
      "File: HFUTPPAXDIS.txt\n",
      "File: PTOBBCJYURJ.txt\n",
      "File: LHODFIKVTQA.txt\n",
      "File: JLTXKIGCWDL.txt\n",
      "File: HDOHZHFSTTK.txt\n",
      "File: KMMLGJOWLGI.txt\n",
      "File: JDLRVFCXYLU.txt\n",
      "File: PHWAVPEKAER.txt\n",
      "File: LDGOCUQJNNS.txt\n",
      "File: JTHSNBNPQSE.txt\n",
      "File: HVUTZEVMSBW.txt\n",
      "File: PQNVCVJINAR.txt\n",
      "\n",
      "\n",
      "Currently looking at /Users/dandresavid/Documents/courses/python-course/Complete-Python-3-Bootcamp-master/12-Advanced Python Modules/08-Advanced-Python-Module-Exercise/extracted_content/Two\n",
      "\n",
      "\n",
      "The subfolders are:\n",
      "\n",
      "\n",
      "The files are: \n",
      "File: HEORIXOTANT.txt\n",
      "File: SOFUJYXTIMK.txt\n",
      "File: HMZXPBOPRAE.txt\n",
      "File: OMWIMVRCMYM.txt\n",
      "File: OHZOUOSFJQC.txt\n",
      "File: OKWFOOYTXFU.txt\n",
      "File: LVMBINRBJXL.txt\n",
      "File: LSQSTGPIGIY.txt\n",
      "File: OIHMLGMWTHL.txt\n",
      "File: GQTJJORZBXY.txt\n",
      "File: HARDNJGDRBC.txt\n",
      "File: OYMAGXAGWHJ.txt\n",
      "File: HMUTDOVNYTV.txt\n",
      "File: LYZEQCVYNEZ.txt\n",
      "File: GMMQQUBMJNR.txt\n",
      "File: GTOTCIWMDBY.txt\n",
      "File: LULTNYAQEJG.txt\n",
      "File: HTOHSTYXTCO.txt\n",
      "File: SJMJLDGPBSJ.txt\n",
      "File: LCJZYDHBFRM.txt\n",
      "File: SPDZYGDHEWO.txt\n",
      "File: SIKFPPLCJDN.txt\n",
      "File: GXYSEPAFRTP.txt\n",
      "File: SWOFXREEHWA.txt\n",
      "File: GKQBQRCTNNK.txt\n",
      "\n",
      "\n",
      "Currently looking at /Users/dandresavid/Documents/courses/python-course/Complete-Python-3-Bootcamp-master/12-Advanced Python Modules/08-Advanced-Python-Module-Exercise/extracted_content/Five\n",
      "\n",
      "\n",
      "The subfolders are:\n",
      "\n",
      "\n",
      "The files are: \n",
      "File: ESIZWBHMGDP.txt\n",
      "File: BUGKBZWRRVI.txt\n",
      "File: ARLKFCWIAJE.txt\n",
      "File: EYTCGIOYWIW.txt\n",
      "File: APJKSRITGGX.txt\n",
      "File: AXJGVPVEFAS.txt\n",
      "File: CSCLFZCDYYC.txt\n",
      "File: CAHBEVSVDDN.txt\n",
      "File: BVBURZZCAPR.txt\n",
      "File: ETCUEXWNBCF.txt\n",
      "File: CRFSDGYFSHA.txt\n",
      "File: DYOPIIVMZOO.txt\n",
      "File: DDLASODUVPX.txt\n",
      "File: CXBVCTRBBIE.txt\n",
      "File: COMGMZBJAYE.txt\n",
      "File: EAAOEPSAWMQ.txt\n",
      "File: DZUWWXYIAEL.txt\n",
      "File: EIPWXMQZJKU.txt\n",
      "File: DHZBAAYEADM.txt\n",
      "File: BSKJDRNEZQM.txt\n",
      "File: AQKATDFGXTS.txt\n",
      "File: BTYWAHLHKBM.txt\n",
      "File: AEITMYIRQLP.txt\n",
      "File: BNUQEHCFRTG.txt\n",
      "File: DQPZQLBCJYP.txt\n",
      "\n",
      "\n",
      "Currently looking at /Users/dandresavid/Documents/courses/python-course/Complete-Python-3-Bootcamp-master/12-Advanced Python Modules/08-Advanced-Python-Module-Exercise/extracted_content/Four\n",
      "\n",
      "\n",
      "The subfolders are:\n",
      "\n",
      "\n",
      "The files are: \n",
      "File: WHTOHQUWXIN.txt\n",
      "File: QDDETWBHJYC.txt\n",
      "File: WNJISWPEBRS.txt\n",
      "File: WFSKPTXPFCH.txt\n",
      "File: EMTGPSXQEJX.txt\n",
      "File: TWUOYFCCYBQ.txt\n",
      "File: QTDYYIFPHAU.txt\n",
      "File: TAKNAVDMZKV.txt\n",
      "File: RYNXFYXMKHG.txt\n",
      "File: ROICPTWKXDX.txt\n",
      "File: QCWCFLKNZMN.txt\n",
      "File: EXVQSVBQQQH.txt\n",
      "File: THPNEGKTJWI.txt\n",
      "File: TJFMLJODVAD.txt\n",
      "File: QCTCKDIBBVG.txt\n",
      "File: TKCZSFQNJTX.txt\n",
      "File: WXDJDOGZEHN.txt\n",
      "File: QVNJULGXNUM.txt\n",
      "File: RSXOTNGKBML.txt\n",
      "File: EPRNUHRSESC.txt\n",
      "File: ECIOBYCDVFI.txt\n",
      "File: RXDARIDGKBF.txt\n",
      "File: REAXWSOIQDY.txt\n",
      "File: WYDLGSGGXKV.txt\n",
      "File: ESDIZXHYCVY.txt\n",
      "\n",
      "\n"
     ]
    }
   ],
   "source": [
    "for folder,sub_folders,files in os.walk(my_dir):\n",
    "    print(f'Currently looking at {folder}')\n",
    "    print('\\n')\n",
    "    print('The subfolders are:')\n",
    "    for sub_folder in sub_folders:\n",
    "          print(f'\\t Subfolder {sub_folder} ')\n",
    "                \n",
    "    print('\\n')\n",
    "    print('The files are: ')\n",
    "    for f in files:\n",
    "        print(f'File: {f}')\n",
    "    print('\\n')"
   ]
  },
  {
   "cell_type": "code",
   "execution_count": 10,
   "metadata": {},
   "outputs": [],
   "source": [
    "import re"
   ]
  },
  {
   "cell_type": "code",
   "execution_count": 25,
   "metadata": {},
   "outputs": [],
   "source": [
    "text = 'ril aliquammauris 719-266-2837 cursus tation'"
   ]
  },
  {
   "cell_type": "code",
   "execution_count": 57,
   "metadata": {},
   "outputs": [],
   "source": [
    "phone_pattern = r'\\d{3}-\\d{3}-\\d{4}'"
   ]
  },
  {
   "cell_type": "code",
   "execution_count": 58,
   "metadata": {},
   "outputs": [],
   "source": [
    "results = re.findall(phone_pattern, text)"
   ]
  },
  {
   "cell_type": "code",
   "execution_count": 59,
   "metadata": {},
   "outputs": [
    {
     "data": {
      "text/plain": [
       "['719-266-2837']"
      ]
     },
     "execution_count": 59,
     "metadata": {},
     "output_type": "execute_result"
    }
   ],
   "source": [
    "results"
   ]
  },
  {
   "cell_type": "code",
   "execution_count": 78,
   "metadata": {},
   "outputs": [],
   "source": [
    "import re"
   ]
  },
  {
   "cell_type": "code",
   "execution_count": 79,
   "metadata": {},
   "outputs": [],
   "source": [
    "def find_phone_number(path, phone_pattern):\n",
    "    results = []\n",
    "    for folder,sub_folders,files in os.walk(path):\n",
    "        for sub_folder in sub_folders:\n",
    "            pass\n",
    "        for f in files:\n",
    "            path = folder + '/' + f \n",
    "            file = open(path)\n",
    "            text = file.read()\n",
    "            if re.findall(phone_pattern, text):\n",
    "                results = re.findall(phone_pattern, text)\n",
    "            \n",
    "    return results"
   ]
  },
  {
   "cell_type": "code",
   "execution_count": 80,
   "metadata": {},
   "outputs": [],
   "source": [
    "path = os.getcwd()\n",
    "path += '/extracted_content/'\n",
    "phone_pattern = r'\\d{3}-\\d{3}-\\d{4}'\n",
    "number = find_phone_number(path, phone_pattern)"
   ]
  },
  {
   "cell_type": "code",
   "execution_count": 81,
   "metadata": {},
   "outputs": [
    {
     "name": "stdout",
     "output_type": "stream",
     "text": [
      "['719-266-2837']\n"
     ]
    }
   ],
   "source": [
    "print(number)"
   ]
  },
  {
   "cell_type": "code",
   "execution_count": null,
   "metadata": {},
   "outputs": [],
   "source": []
  },
  {
   "cell_type": "code",
   "execution_count": null,
   "metadata": {},
   "outputs": [],
   "source": []
  }
 ],
 "metadata": {
  "anaconda-cloud": {},
  "kernelspec": {
   "display_name": "Python 3",
   "language": "python",
   "name": "python3"
  },
  "language_info": {
   "codemirror_mode": {
    "name": "ipython",
    "version": 3
   },
   "file_extension": ".py",
   "mimetype": "text/x-python",
   "name": "python",
   "nbconvert_exporter": "python",
   "pygments_lexer": "ipython3",
   "version": "3.8.8"
  }
 },
 "nbformat": 4,
 "nbformat_minor": 2
}
